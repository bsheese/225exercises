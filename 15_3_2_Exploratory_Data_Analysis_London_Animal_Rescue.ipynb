{
  "nbformat": 4,
  "nbformat_minor": 0,
  "metadata": {
    "colab": {
      "provenance": []
    },
    "kernelspec": {
      "name": "python3",
      "display_name": "Python 3"
    },
    "language_info": {
      "name": "python"
    }
  },
  "cells": [
    {
      "cell_type": "markdown",
      "metadata": {
        "id": "saJC3AieA2nD"
      },
      "source": [
        "Starter code below. Question will be supplied separately.\n",
        "\n",
        "Data from:\n",
        "\n",
        "https://data.london.gov.uk/dataset/animal-rescue-incidents-attended-by-lfb"
      ]
    },
    {
      "cell_type": "code",
      "metadata": {
        "id": "cjE15ZK__ZvU"
      },
      "source": [
        "# DO NOT EDIT THIS CODE CELL\n",
        "\n",
        "import pandas as pd\n",
        "url = 'https://data.london.gov.uk/download/animal-rescue-incidents-attended-by-lfb/01007433-55c2-4b8a-b799-626d9e3bc284/Animal%20Rescue%20incidents%20attended%20by%20LFB%20from%20Jan%202009.csv.xlsx'\n",
        "raw_df = pd.read_excel(url)\n",
        "\n",
        "# reduce to target columns\n",
        "keep_list = ['AnimalGroupParent', 'IncidentNotionalCost(£)', 'FinalDescription', 'PropertyType']\n",
        "df = raw_df.drop(columns = [x for x in raw_df.columns if x not in keep_list])\n",
        "\n",
        "# drop rows with missing values\n",
        "df = df.dropna()\n",
        "\n",
        "# rename columns\n",
        "df.columns = ['cost', 'description', 'animal', 'property']\n",
        "\n",
        "# lowercase string values\n",
        "for column in df.columns[1:]:\n",
        "    df[column] = df[column].str.lower()\n",
        "\n",
        "#check result\n",
        "df.head()\n"
      ],
      "execution_count": null,
      "outputs": []
    },
    {
      "cell_type": "code",
      "source": [
        "print('==== London Animal Rescue Dataset ====')\n",
        "print('Each row is an incident, where animal rescue responded to a call.\\n')\n",
        "\n",
        "print('Column Names and Descriptions')\n",
        "columns_dict = {'animal': 'animal type',\n",
        "                'description':'description of incident',\n",
        "                'cost' : 'total cost of incident',\n",
        "                'property' : 'type of property where incident occurred'}\n",
        "\n",
        "for key, value in columns_dict.items():\n",
        "    print(f\" * {key}: {value}\")"
      ],
      "metadata": {
        "id": "MrdD8jnE6sbR",
        "colab": {
          "base_uri": "https://localhost:8080/"
        },
        "outputId": "758aae0b-054f-4f45-ee21-cf537279370e"
      },
      "execution_count": null,
      "outputs": [
        {
          "output_type": "stream",
          "name": "stdout",
          "text": [
            "==== London Animal Rescue Dataset ====\n",
            "Each row is an indent, where animal rescue responded to a call.\n",
            "\n",
            "Column Names and Descriptions\n",
            " * animal: animal type\n",
            " * description: description of incident\n",
            " * cost: total cost of incident\n",
            " * property: type of property where incident occurred\n"
          ]
        }
      ]
    }
  ]
}