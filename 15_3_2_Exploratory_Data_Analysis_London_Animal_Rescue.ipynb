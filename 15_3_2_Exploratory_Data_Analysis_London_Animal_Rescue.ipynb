{
 "cells": [
  {
   "cell_type": "markdown",
   "metadata": {
    "id": "saJC3AieA2nD"
   },
   "source": [
    "* Starter code below. Question will be supplied separately.\n",
    "* Data from: https://data.london.gov.uk/dataset/animal-rescue-incidents-attended-by-lfb"
   ]
  },
  {
   "cell_type": "code",
   "execution_count": null,
   "metadata": {
    "id": "cjE15ZK__ZvU",
    "trusted": true
   },
   "outputs": [],
   "source": [
    "### DO NOT EDIT THIS CODE CELL, YOU MUST EXECUTE THIS CELL BEFORE YOU BEGIN\n",
    "! pip install pandas\n",
    "! pip install openpyxl\n",
    "\n",
    "\n",
    "\n",
    "\n",
    "print(\"\\n\" * 5)\n",
    "print('==== London Animal Rescue Dataset ====')\n",
    "print('Each row is an incident, where animal rescue responded to a call.\\n')\n",
    "\n",
    "print('Column Names and Descriptions')\n",
    "columns_dict = {'animal': 'animal type',\n",
    "                'description':'description of incident',\n",
    "                'cost' : 'total cost of incident',\n",
    "                'property' : 'type of property where incident occurred'}\n",
    "\n",
    "for key, value in columns_dict.items():\n",
    "    print(f\" * {key}: {value}\")\n",
    "print(\"\\n\" * 5)\n",
    "\n",
    "\n",
    "\n",
    "\n",
    "import pandas as pd\n",
    "\n",
    "try:\n",
    "    url = 'https://data.london.gov.uk/download/animal-rescue-incidents-attended-by-lfb/01007433-55c2-4b8a-b799-626d9e3bc284/Animal%20Rescue%20incidents%20attended%20by%20LFB%20from%20Jan%202009.csv.xlsx'\n",
    "    raw_df = pd.read_excel(url)\n",
    "except:\n",
    "    print(\"Error: Unable to download the dataset. Please check the URL or your internet connection. Note: there is a cleanded version of the dataset in the same directory as this notebook.\")\n",
    "    raise\n",
    "\n",
    "# reduce to target columns\n",
    "keep_list = ['AnimalGroupParent', 'IncidentNotionalCost(£)', 'FinalDescription', 'PropertyType']\n",
    "df = raw_df.drop(columns = [x for x in raw_df.columns if x not in keep_list])\n",
    "\n",
    "# drop rows with missing values\n",
    "df = df.dropna()\n",
    "\n",
    "# rename columns\n",
    "df.columns = ['cost', 'description', 'animal', 'property']\n",
    "\n",
    "# lowercase string values\n",
    "for column in df.columns[1:]:\n",
    "    df[column] = df[column].str.lower()\n",
    "\n",
    "#check result\n",
    "df.head()\n"
   ]
  },
  {
   "cell_type": "code",
   "execution_count": null,
   "metadata": {
    "trusted": true
   },
   "outputs": [],
   "source": [
    "# add your code here"
   ]
  }
 ],
 "metadata": {
  "colab": {
   "provenance": []
  },
  "kernelspec": {
   "display_name": "Python 3 (ipykernel)",
   "language": "python",
   "name": "python3"
  },
  "language_info": {
   "codemirror_mode": {
    "name": "ipython",
    "version": 3
   },
   "file_extension": ".py",
   "mimetype": "text/x-python",
   "name": "python",
   "nbconvert_exporter": "python",
   "pygments_lexer": "ipython3",
   "version": "3.10.16"
  }
 },
 "nbformat": 4,
 "nbformat_minor": 4
}
