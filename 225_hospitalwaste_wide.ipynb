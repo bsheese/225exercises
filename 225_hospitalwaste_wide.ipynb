{
  "nbformat": 4,
  "nbformat_minor": 0,
  "metadata": {
    "colab": {
      "provenance": []
    },
    "kernelspec": {
      "name": "python3",
      "display_name": "Python 3"
    },
    "language_info": {
      "name": "python"
    }
  },
  "cells": [
    {
      "cell_type": "markdown",
      "source": [
        "# Preliminaries"
      ],
      "metadata": {
        "id": "oLeVyxOAYGhX"
      }
    },
    {
      "cell_type": "code",
      "execution_count": null,
      "metadata": {
        "id": "3g1GB2shKP08"
      },
      "outputs": [],
      "source": [
        "import gdown\n",
        "import pandas as pd\n",
        "import seaborn as sns\n",
        "import matplotlib.pyplot as plt\n",
        "\n",
        "file_id = '1BEs2Fa1qJEYWE-HyE3t63PplMi2IbXc9'\n",
        "output = 'hospital_waste.csv'\n",
        "\n",
        "gdown.download(id=file_id, output=output, quiet=False)\n",
        "\n",
        "df = pd.read_csv(output)\n",
        "\n",
        "df.columns = df.columns.str.lower()\n",
        "df.columns = df.columns.str.replace(' ', '_') # replace white space in columns names with underscores\n",
        "df.columns = df.columns.str.replace('*', '') # strips out * from columns\n",
        "\n",
        "df['date'] = pd.to_datetime(df['date'])\n",
        "df['year'] = df['date'].dt.year\n",
        "df['month'] = df['date'].dt.month\n",
        "df['day'] = df['date'].dt.day\n",
        "df['day_of_week'] = df['date'].dt.dayofweek\n",
        "\n",
        "df = df.drop(columns = 'unnamed:_0')\n",
        "\n",
        "focal_variables = ['rmw/apd', 'rmw', 'apd']\n",
        "\n",
        "display(df.shape)"
      ]
    },
    {
      "cell_type": "markdown",
      "source": [
        "# Variables\n",
        "*Note! These are just guesses, some are probably incorrect.*\n",
        "\n",
        "### 1. Hospital Identification and Demographics\n",
        "This group contains general information about each hospital and its location.\n",
        "\n",
        "*   **hospital:** The name of the healthcare facility.\n",
        "*   **hospital_abbreviation:** A shortened name or acronym for the hospital.\n",
        "*   **hospital_abbreviation_w/city:** The hospital's abbreviation followed by the city in which it is located.\n",
        "*   **city:** The city where the hospital is located.\n",
        "*   **state:** The state where the hospital is located.\n",
        "*   **region:** The geographical region where the hospital is located.\n",
        "*   **central_indicator:** A binary indicator (0 or 1) that likely signifies if a hospital is in a \"Central\" geographical region.\n",
        "*   **eastern_indicator:** A binary indicator (0 or 1) that likely signifies if a hospital is in an \"Eastern\" geographical region.\n",
        "\n",
        "### 2. Facility and Operational Metrics\n",
        "This group includes metrics related to the hospital's size, capacity, and overall patient activity.\n",
        "\n",
        "*   **square_footage:** The total area of the hospital building in square feet.\n",
        "*   **cleanable_square_footage:** The portion of the hospital's total square footage that requires regular cleaning and maintenance.\n",
        "*   **staffed_beds:** The number of beds in the hospital that are set up and staffed for patient use.\n",
        "*   **available_beds_total:** The total number of licensed beds available for patient use.\n",
        "*   **total_licensed_beds_total:** The total number of beds that the hospital is licensed to operate.\n",
        "*   **percent_occupancy_total:** The percentage of available beds that are occupied by patients.\n",
        "*   **hospital_size:** A classification of the hospital's size, often based on the number of beds.\n",
        "*   **adjusted_patient_days:** A measure of the total days of patient care, adjusted to include outpatient services.\n",
        "*   **adjusted_discharges:** A measure of hospital patient volume that accounts for both inpatient and outpatient services.\n",
        "*   **cmi_adjusted_patient_days_stand_alone_month:** Adjusted patient days for a single month, further adjusted by the Case Mix Index (CMI).\n",
        "*   **cmi_adj_discharges_stand_alone_month:** Adjusted discharges for a single month, further adjusted by the Case Mix Index (CMI).\n",
        "*   **payroll_standard_hours_total:** The total standard, non-overtime hours worked by all hospital employees.\n",
        "*   **purchased_labor_hours_total:** The total hours of labor sourced from external agencies or contractors.\n",
        "*   **corporate_office_hours_total:** The total number of operating hours for the hospital's corporate or administrative offices.\n",
        "\n",
        "### 3. Time-Related Data\n",
        "This group contains data points that define the time frame of the records.\n",
        "\n",
        "*   **date:** The specific date of the waste data entry.\n",
        "*   **date_month:** The month in which the waste data was recorded.\n",
        "*   **days_in_month:** The number of days in the given month of the data entry.\n",
        "\n",
        "### 4. General Waste Generation\n",
        "This category covers overall and non-specialized waste streams.\n",
        "\n",
        "*   **total_waste:** The total amount of all waste generated.\n",
        "*   **total_waste_(with_reprocessing):** The total amount of waste, including materials sent for reprocessing.\n",
        "*   **trash:** General, non-regulated solid waste.\n",
        "*   **compactor:** A machine that reduces the size of waste material through compaction.\n",
        "*   **front_end_loader_(fel):** A type of heavy equipment, likely used for handling large waste containers.\n",
        "\n",
        "### 5. Regulated and Hazardous Waste\n",
        "This group includes all forms of regulated, hazardous, and specialized medical waste.\n",
        "\n",
        "*   **rmw:** Regulated Medical Waste, also known as biohazardous or infectious waste.\n",
        "*   **redbag:** Refers to regulated medical waste (RMW).\n",
        "*   **corrected_redbag:** The final, adjusted amount of red bag waste after a correction has been applied.\n",
        "*   **redbag_correction_(5%):** An adjustment made to the recorded amount of red bag waste.\n",
        "*   **reusable_sharps:** Sharps containers designed to be emptied, sterilized, and used again.\n",
        "*   **hazardous:** Waste that is potentially harmful to human health or the environment.\n",
        "*   **hazardous_pharmaceuticals:** Unused or expired medications that are classified as hazardous waste.\n",
        "*   **hazardous:_rcra_pharm:** Pharmaceutical waste that is classified as hazardous under the Resource Conservation and Recovery Act (RCRA).\n",
        "*   **non-rcra:** Waste that is not regulated under the federal RCRA but may be considered hazardous by state regulations.\n",
        "*   **universal:** A category of hazardous waste that includes items like batteries and certain lamps.\n",
        "*   **batteries:** A type of universal waste.\n",
        "*   **bulbs:** Likely refers to fluorescent bulbs, which are a type of universal waste.\n",
        "*   **5%_of_path/chemo:** A calculation representing 5% of the total pathological and chemotherapy waste.\n",
        "*   **corrected_path/chemo:** The final, adjusted amount of pathological and chemotherapy waste.\n",
        "*   **hipaa_conf_documents:** Paper documents containing protected health information.\n",
        "*   **electronic_waste:** Discarded electronic devices.\n",
        "\n",
        "### 6. Recycling and Waste Diversion\n",
        "This category is for all data related to recycling efforts.\n",
        "\n",
        "*   **mixed_recycling:** A combination of recyclable materials collected together.\n",
        "*   **rcy:** Abbreviation for recycling.\n",
        "*   **recycle_-rd_&_ud:** Recycled waste with likely internal classifications.\n",
        "*   **recycle_-_rd_+_ud_+_reprocessing:** Total recycled waste, including materials that are reprocessed.\n",
        "\n",
        "### 7. Waste Treatment and Disposal Methods\n",
        "This group describes how different waste streams are managed and treated.\n",
        "\n",
        "*   **landfill_-_td:** Waste sent to a landfill for disposal.\n",
        "*   **rmw_autoclave:** A device that uses steam under pressure to sterilize regulated medical waste.\n",
        "*   **autoclave_-_md:** Medical waste treated by an autoclave.\n",
        "*   **rmw_incineration:** The process of burning regulated medical waste.\n",
        "*   **incinerate_-_md_&_hd_&_nd:** Waste that has been incinerated, with likely internal classifications.\n",
        "\n",
        "### 8. Environmental Impact (Carbon Emissions)\n",
        "This group contains metrics related to the carbon footprint of waste management activities.\n",
        "\n",
        "*   **mt_eco2_(autoclave_-_steam_sterilization):** Metric tons of CO2 equivalent from steam sterilization.\n",
        "*   **mt_eco2_(incineration):** Metric tons of CO2 equivalent from incineration.\n",
        "*   **mt_eco2_(autoclave_-_etd):** Metric tons of CO2 equivalent related to a specific autoclave process.\n",
        "*   **mt_eco2_(rmw_+_haz_pharm):** Total metric tons of CO2 equivalent from RMW and hazardous pharmaceuticals.\n",
        "*   **mt_eco2_(solid_waste):** Metric tons of CO2 equivalent from solid waste disposal.\n",
        "*   **mt_eco2_(solid_waste_+_rmw_+_haz_pharm):** Combined metric tons of CO2 equivalent from all major waste streams.\n",
        "\n",
        "### 9. Performance Ratios and Benchmarks\n",
        "This category includes calculated ratios and comparisons to national standards.\n",
        "\n",
        "*   **rmw/apd:** The ratio of Regulated Medical Waste to Adjusted Patient Days.\n",
        "*   **rmw/apd_national_median_(all):** The national median ratio of RMW to Adjusted Patient Days.\n",
        "\n",
        "### 10. Medical Device Reprocessing (by Vendor)\n",
        "This is a large, detailed group focused on the collection and reprocessing of single-use medical devices, broken down by specific vendors (Stryker, Medline, Cardinal Health) and clinical areas.\n",
        "\n",
        "#### a. Stryker Data\n",
        "*   **stryker_collected_medical_devices_-_patient_care**\n",
        "*   **stryker_patient_care_-_usage**\n",
        "*   **stryker_-_patient_care_-_%_of_collection**\n",
        "*   **stryker_-_%_of_collection**\n",
        "*   **stryker_-_3-month_rolling_collection_%**\n",
        "*   **styker_-_3-month_rolling_purchases**\n",
        "*   **stryker_-_total_usage**\n",
        "*   **stryker_-_total_collected_medical_devices**\n",
        "\n",
        "#### b. Medline Data\n",
        "*   **medline_collected_medical_devices_-_patient_care**\n",
        "*   **medline_-_patient_care_-_usage**\n",
        "*   **medline_-_patient_care_-_%_of_collection**\n",
        "*   **medline_collected_medical_devices_-_surgery**\n",
        "*   **medline_-_surgery_-_usage**\n",
        "*   **medline_collected_-_surgery_-_3_month_rolling**\n",
        "*   **medline_purchases_-_surgery_-_3_month_rolling**\n",
        "*   **medline_-_surgery_-_%_of_collection**\n",
        "*   **medline_-_surgery_3-month_rolling_collection_%**\n",
        "*   **medline_collected_medical_devices_-_ep**\n",
        "*   **medline_-_ep_-_usage**\n",
        "*   **medline_-_ep_-_3_month_rolling_collection**\n",
        "*   **medline_-_ep_-_3_month_rolling_usage**\n",
        "*   **medline_-_total_usage**\n",
        "*   **medline_-_total_collected_medical_devices**\n",
        "\n",
        "#### c. Cardinal Health Data\n",
        "*   **cardinal_health_collected_medical_devices_(patient_care)**\n",
        "*   **cardinal_health_purchased_medical_devices**\n",
        "*   **%_of_collection_-_cardinal_health**\n",
        "*   **cardinal_health_collected_3_month_rolling**\n",
        "*   **cardinal_health_purchased_3_month_rolling**\n",
        "*   **cardinal_health_collection_%_3_month_rolling**\n",
        "*   **cardinal_health_mom_3-month_%_change**\n",
        "*   **cardinal_health_collection_%_12_month_rolling**\n",
        "*   **%_not_collected_-_cardinal_health**\n",
        "\n",
        "### 11. Aggregated Medical Device Reprocessing Data\n",
        "This group rolls up the vendor-specific data into overall metrics for device reprocessing, categorized by clinical area.\n",
        "\n",
        "*   **total_usage_-_ep:** Total electrophysiology devices used.\n",
        "*   **total_usage_-_patient_care:** Total patient care devices used.\n",
        "*   **total_usage_-_surgery:** Total surgery devices used.\n",
        "*   **total_usage:** Total of all medical devices used.\n",
        "*   **total_ep_collected_medical_devices:** Total electrophysiology devices collected.\n",
        "*   **%_of_collection_-_ep:** Collection percentage for electrophysiology devices.\n",
        "*   **total_surgery_collected_medical_devices:** Total surgery devices collected.\n",
        "*   **%_of_collection_-_surgery:** Collection percentage for surgery devices.\n",
        "*   **total_patient_care_collected_medical_devices:** Total patient care devices collected.\n",
        "*   **%_of_collection_-_patient_care:** Collection percentage for patient care devices.\n",
        "*   **total_collected_medical_devices:** Total of all medical devices collected.\n",
        "*   **total_purchased_medical_devices:** Total of all medical devices purchased.\n",
        "*   **%_collection_-_medical_devices:** Overall collection percentage for all devices.\n",
        "*   **%_purchased_back_-_medical_devices:** Percentage of reprocessed devices bought back by the hospital.\n",
        "*   **%_of_opportunity_-_ep:** Capture rate of potential electrophysiology device collections.\n",
        "*   **%_of_opportunity_-_patient_care:** Capture rate of potential patient care device collections.\n",
        "*   **%_of_opportunity_-_surgery:** Capture rate of potential surgery device collections."
      ],
      "metadata": {
        "id": "OS0bPTwmLzGq"
      }
    },
    {
      "cell_type": "markdown",
      "source": [
        "# Missing Values"
      ],
      "metadata": {
        "id": "qSpJ-QN2eIfs"
      }
    },
    {
      "cell_type": "code",
      "source": [
        "df.info(show_counts=True, verbose=True)"
      ],
      "metadata": {
        "id": "60Q6gGHLTU-0"
      },
      "execution_count": null,
      "outputs": []
    },
    {
      "cell_type": "code",
      "source": [
        "# Group by hospital and calculate the sum of missing values for each column in each group\n",
        "# Explicitly select all columns to avoid DeprecationWarning\n",
        "missing_counts_by_hospital = df.groupby(by='hospital')[df.columns].apply(lambda x: x.isnull().sum())\n",
        "\n",
        "# Calculate the average number of missing values for all columns for each hospital\n",
        "average_missing_by_hospital = missing_counts_by_hospital.mean(axis=1)\n",
        "\n",
        "display(average_missing_by_hospital.sort_values(ascending=False))"
      ],
      "metadata": {
        "id": "55Lcm7TGV9GF"
      },
      "execution_count": null,
      "outputs": []
    },
    {
      "cell_type": "code",
      "source": [
        "# apd has exactly 16 missing values, which suggests it is entirely missing for one hospital\n",
        "\n",
        "# confirm that Saint Elizabeth - Peru is missing all apd counts\n",
        "df[df['apd'].isnull()]['hospital'].value_counts()\n",
        "\n",
        "# dropping Sain Elizabeth - Peru for now becuase apd is focal\n",
        "df = df[df['hospital'] != 'Saint Elizabeth - Peru']\n"
      ],
      "metadata": {
        "id": "i-FMLvTbOX8S"
      },
      "execution_count": null,
      "outputs": []
    },
    {
      "cell_type": "code",
      "source": [
        "# Calculate missing percentage for each column\n",
        "missing_percent = df.isnull().sum() / len(df) * 100\n",
        "\n",
        "# Identify columns to drop (more than 40% missing)\n",
        "cols_to_drop = missing_percent[missing_percent > 40].index\n",
        "\n",
        "# Drop the identified columns\n",
        "df = df.drop(columns=cols_to_drop)\n",
        "\n",
        "# Identify columns to impute (less than or equal to 40% missing)\n",
        "cols_to_impute = missing_percent[(missing_percent <= 40) & (missing_percent > 0)].index\n",
        "\n",
        "# Impute with the median for each hospital\n",
        "for col in cols_to_impute:\n",
        "    if pd.api.types.is_numeric_dtype(df[col]):\n",
        "        df[col] = df.groupby('hospital')[col].transform(lambda x: x.fillna(x.median()))\n",
        "\n",
        "# Identify columns to impute (less than or equal to 40% missing)\n",
        "cols_to_impute = missing_percent[(missing_percent <= 40) & (missing_percent > 0)].index\n",
        "\n",
        "# For any remaining NaNs, fill with the global median of the column\n",
        "for col in cols_to_impute:\n",
        "    if pd.api.types.is_numeric_dtype(df[col]):\n",
        "        global_median = df[col].median()\n",
        "        df[col] = df[col].fillna(global_median)\n",
        "\n",
        "print(\"\\nMissing values remaining after two-step imputation: (these are probably non-numerics with missing values)\")\n",
        "display(df[cols_to_impute].isnull().sum().sort_values(ascending=False).head())\n",
        "\n",
        "\n",
        "print(\"Columns dropped due to more than 40% missing values:\")\n",
        "for s in cols_to_drop:\n",
        "  print(s)\n"
      ],
      "metadata": {
        "id": "t4icL-1weaBM"
      },
      "execution_count": null,
      "outputs": []
    },
    {
      "cell_type": "code",
      "source": [
        "# check to make sure focal variable not dropped\n",
        "for col in focal_variables:\n",
        "  print(col, df[col].isna().sum())"
      ],
      "metadata": {
        "id": "MN2SM6nvYt3j"
      },
      "execution_count": null,
      "outputs": []
    },
    {
      "cell_type": "markdown",
      "source": [
        "apd had 16 missing values. these have been replaced with median for hospital."
      ],
      "metadata": {
        "id": "EL-KrOQrbDXG"
      }
    },
    {
      "cell_type": "markdown",
      "source": [
        "# Outliers in Focal Variables"
      ],
      "metadata": {
        "id": "52VU5zNMWtGx"
      }
    },
    {
      "cell_type": "code",
      "source": [
        "for col in focal_variables:\n",
        "  sns.histplot(data=df, x=col)\n",
        "  plt.show()\n",
        "  print(df[col].describe())\n",
        "  print()"
      ],
      "metadata": {
        "id": "0V9w2IrHW1qv"
      },
      "execution_count": null,
      "outputs": []
    },
    {
      "cell_type": "markdown",
      "source": [
        "# Too Many Columns\n",
        "We've got too many columns, and we won't elegant tools for dealing with this situation until CS/DS 377, so let's do some human things."
      ],
      "metadata": {
        "id": "cHYeQFWdcxUl"
      }
    },
    {
      "cell_type": "code",
      "source": [
        "# drop all columns that mention specific vendors, such as stryker, medline, cardinal\n",
        "df = df.loc[:, ~df.columns.str.contains('stryker|medline|cardinal')]\n",
        "\n",
        "# drop all columns that appear to be constants\n",
        "df = df.loc[:, ~df.columns.str.contains('rmw/apd_national_median_\\\\(all\\\\)|day|available_beds_total|batteries')]"
      ],
      "metadata": {
        "id": "s-VdqUyzdASd"
      },
      "execution_count": null,
      "outputs": []
    },
    {
      "cell_type": "code",
      "source": [
        "# reorganize columns\n",
        "cols_listoflists = [\n",
        "    [# 1. Hospital Identification and Demographics\n",
        "    'hospital',\n",
        "    'hospital_abbreviation',\n",
        "    'city',\n",
        "    'state',\n",
        "    'region',\n",
        "    'eastern_indicator',\n",
        "    'hospital_size',\n",
        "    ],\n",
        "\n",
        "    [# 2. Facility and Operational Metrics\n",
        "    'square_footage',\n",
        "    'cleanable_square_footage',\n",
        "    'payroll_standard_hours_total',\n",
        "    'purchased_labor_hours_total'\n",
        "    ],\n",
        "\n",
        "    #[# 3. Time-Related Data\n",
        "    #'date',\n",
        "    #'date_month',\n",
        "    #'year',\n",
        "    #'month',\n",
        "    #'year_month',\n",
        "    #],\n",
        "\n",
        "    [# 5. Regulated and Hazardous Waste\n",
        "    'electronic_waste',\n",
        "    'reusable_sharps',\n",
        "    'hazardous:_rcra_pharm',\n",
        "    'hazardous',\n",
        "    'universal',\n",
        "    'bulbs',\n",
        "    'non-rcra',\n",
        "    'redbag_correction_(5%)',\n",
        "    '5%_of_path/chemo',\n",
        "    'corrected_path/chemo'\n",
        "    ],\n",
        "\n",
        "    [# 6. Recycling and Waste Diversion\n",
        "    'mixed_recycling',\n",
        "    'rcy'\n",
        "    ],\n",
        "\n",
        "    [# 7. Waste Treatment and Disposal Methods\n",
        "    'rmw_autoclave',\n",
        "    'rmw/apd',\n",
        "    ],\n",
        "\n",
        "    [# 11. Aggregated Medical Device Reprocessing Data\n",
        "    '%_of_collection_-_ep',\n",
        "    '%_of_collection_-_surgery',\n",
        "    '%_of_collection_-_patient_care',\n",
        "    '%_of_collection_-_patient_care/patient_care',\n",
        "    '%_collection_-_medical_devices',\n",
        "    '%_purchased_back_-_medical_devices',\n",
        "    '%_of_opportunity_-_ep']\n",
        "]"
      ],
      "metadata": {
        "id": "A8ikVRUgdr9N"
      },
      "execution_count": null,
      "outputs": []
    },
    {
      "cell_type": "code",
      "source": [
        "# unpack cols into a flat list\n",
        "flat_list = [item for sublist in cols_listoflists for item in sublist]\n",
        "\n",
        "# massively reduce columns, add columns back by adding name to lists above\n",
        "df = df.loc[:, flat_list]"
      ],
      "metadata": {
        "id": "BsvgGPvTfx35"
      },
      "execution_count": null,
      "outputs": []
    },
    {
      "cell_type": "code",
      "source": [
        "# pivot to shift to wide format using the median function\n",
        "numeric_cols = df.select_dtypes(include='number').columns\n",
        "cols_to_pivot = ['hospital', 'hospital_abbreviation',  'city', 'state', 'region', 'hospital_size'] + list(numeric_cols)\n",
        "df_wide = df[cols_to_pivot].pivot_table(index=['hospital','hospital_abbreviation', 'city', 'state', 'region', 'hospital_size'], aggfunc='median')\n",
        "\n",
        "# Reindex columns to preserve original order of numeric columns\n",
        "df_wide = df_wide[numeric_cols].reset_index()\n",
        "\n",
        "df_wide.head()"
      ],
      "metadata": {
        "id": "p02-N-4XgfG5"
      },
      "execution_count": null,
      "outputs": []
    },
    {
      "cell_type": "code",
      "source": [
        "for col in cols_listoflists:\n",
        "  display(df_wide[col].describe().T)\n",
        "  print()"
      ],
      "metadata": {
        "id": "LZdXfLQMfG2R"
      },
      "execution_count": null,
      "outputs": []
    },
    {
      "cell_type": "code",
      "source": [
        "for col in cols_listoflists[1:]:\n",
        "  display(sns.heatmap(df_wide[col].corr(), cmap=\"Blues\"))\n",
        "  plt.show()\n",
        "  print()"
      ],
      "metadata": {
        "id": "x7OmWuEEfoyN"
      },
      "execution_count": null,
      "outputs": []
    },
    {
      "cell_type": "code",
      "source": [
        "sns.heatmap(df_wide.corr(), cmap='Blues')"
      ],
      "metadata": {
        "id": "Zh73vYEwW3Cc"
      },
      "execution_count": null,
      "outputs": []
    }
  ]
}